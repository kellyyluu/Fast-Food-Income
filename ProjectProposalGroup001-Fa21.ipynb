{
 "cells": [
  {
   "cell_type": "markdown",
   "metadata": {},
   "source": [
    "# COGS 108 - Final Project Proposal"
   ]
  },
  {
   "cell_type": "markdown",
   "metadata": {},
   "source": [
    "# Names\n",
    "\n",
    "- Destynee Tau\n",
    "- Isaiah Nicasio\n",
    "- Kelly Luu\n",
    "- Nicholas Fisher"
   ]
  },
  {
   "cell_type": "markdown",
   "metadata": {},
   "source": [
    "# Research Question"
   ]
  },
  {
   "cell_type": "markdown",
   "metadata": {},
   "source": [
    "What is the correlation between the release of Disney movies and traffic accidents in California since January 2001? Do releases increase or decrease the number of traffic accidents in California?"
   ]
  },
  {
   "cell_type": "markdown",
   "metadata": {},
   "source": [
    "## Background and Prior Work"
   ]
  },
  {
   "cell_type": "markdown",
   "metadata": {},
   "source": [
    "Movies and media are called to have subliminal messages. Disney being one of the most popular distributors of movies plays an important impact on the emotional output of people after they watch a movie. Analysis on Disney’s movies have shown that overtime, there is emotional distress that characters go through [1]. These emotions such as stress or other high-stake emotions can make people more prone to getting into car accidents [2]. With Disney movies being highly connected to family, people can get distracted with their emotions after the movie which could lead to them not being as focused on the road as before. \n",
    "\n",
    "Although not all people who have access to Disney movies also operate a car, there are other attributes of this issue because there are pedestrians and other drivers on the road that could cause these car accidents. While Nicola Davis claims that sad movies increase endorphins, other emotional movies may create a variety of reactive responses [3]. With our project, we are interested in creating a correlation between Disney movie releases and traffic accidents because people could have been transported to the movie theaters to watch the movie or came back feeling the emotional outputs of the movie. \n",
    "\n",
    "\n",
    "References (include links):\n",
    "- 1) https://www.mdpi.com/books/pdfdownload/book/1411\n",
    "- 2) https://kitaylaw.com/can-stress-lead-to-car-accidents/\n",
    "- 3) https://www.theguardian.com/science/2016/sep/21/watching-a-sad-films-boosts-endorphin-levels-in-your-brain-psychologists-say"
   ]
  },
  {
   "cell_type": "markdown",
   "metadata": {},
   "source": [
    "# Hypothesis\n"
   ]
  },
  {
   "cell_type": "markdown",
   "metadata": {},
   "source": [
    "We believe that Disney movies released in the 2000’s and after have increased traffic accidents in California on their day of release. We believe this is true because Disney movies have a strong emotional appeal after the movie is over which can roll over to how driving is affected. The emotions brought in and out of a Disney movie can create different stress levels in someone when they are driving from a Disney movie."
   ]
  },
  {
   "cell_type": "markdown",
   "metadata": {},
   "source": [
    "# Data"
   ]
  },
  {
   "cell_type": "markdown",
   "metadata": {},
   "source": [
    "The dataset we will use for answering our question includes data about Disney movie releases and traffic accidents in California from 2001 and onward. Variables that will be used about Disney movie releases include month and year of the release and movie title. We will also use a dataset for the net gross income of the movies so we can determine which movies we will use for the dataset, we will use ones with a high popularity rating. We might also use use all movies and see if there is a change in all of the movies. Our variables on traffic accidents will include month and year, time of day, number of vehicles involved.\n",
    "The data will be collected from datasets provided by Kaggle, SWITRS website and stored as a `CSV` file.\n",
    "\n",
    "\n",
    "- 1) https://www.kaggle.com/shivamb/disney-movies-and-tv-shows\n",
    "- 2) https://www.kaggle.com/alexgude/california-traffic-collision-data-from-switrs\n",
    "- 3) (Also a dataset for all the movies and their release date)"
   ]
  },
  {
   "cell_type": "markdown",
   "metadata": {},
   "source": [
    "# Ethics & Privacy"
   ]
  },
  {
   "cell_type": "markdown",
   "metadata": {},
   "source": [
    "We acknowledge that there are potential biases and unintentional uses of the data we are collecting. However, we considered all ethical and privacy policies before moving forth with the project. \n",
    "In our project we analyzed the correlation between disney movies and traffic accidents. Although there are pedestrian accidents, not everyone was fully represented in this data set as it only focused on traffic accidents. We also have to take into account the other factors that could have caused the accident since not everyone has the affordability and accessibility to engage in a leisure activity such as watching Disney movies. Places with a lower socioeconomic status could have poor road conditions which may be a contributing factor when analyzing our connection between the two. We have to consider the biases that people have against or for Disney movies since not everyone is at the same emotional standpoint. Additionally, not all accidents are reported and in the data frame because of privacy issues. We ensured that our reported accidents did not have personal information included within the data frame. All these possible confounding variables will be interesting to analyze into our project!\n"
   ]
  },
  {
   "cell_type": "markdown",
   "metadata": {},
   "source": [
    "# Team Expectations "
   ]
  },
  {
   "cell_type": "markdown",
   "metadata": {},
   "source": [
    "* Clear Communication -- don’t be afraid to ask for help when needed and as soon as possible\n",
    "* Equal contribution\n",
    "* Responding to communication in a timely manner\n",
    "* Respecting others ideas and opinions\n",
    "* Be accountable for your work and deadlines\n",
    "* Be flexible with ideas and times"
   ]
  },
  {
   "cell_type": "markdown",
   "metadata": {},
   "source": [
    "# Project Timeline Proposal"
   ]
  },
  {
   "cell_type": "markdown",
   "metadata": {},
   "source": [
    "| Meeting Date  | Meeting Time| Completed Before Meeting  | Discuss at Meeting |\n",
    "|---|---|---|---|\n",
    "| 10/4  |  1 PM | Read & Think about COGS 108 expectations; brainstorm topics/questions  | Determine best form of communication; Discuss and decide on final project topic; discuss hypothesis; begin background research | \n",
    "| 10/14  |  2 AM |  Do background research on topic | Discuss ideal dataset(s) and ethics; draft project proposal | \n",
    "| 10/15  | 3 AM  | Brainstorm possible datasets and topics for the final project  | Discuss final project topic and data we are using   |\n",
    "| 10/19  | 6:30 PM  | Find more datasets to work with | Finalize a topic for our group proposal/ work on group proposal   |\n",
    "| 10/25  | 1 PM  | Import & Wrangle Data, EDA | Check to see if Data aligns and see how we can show our data.\n",
    " |\n",
    "| 11/1  | 1 PM  | Dop methods for organizing our data i.e. in graphs/clean data | Compare the findings and discuss what other things can be found in our data. See what graphs we can make with our data |\n",
    "| 11/8  | 1 PM  | Look for ways of doing linear regression models and what programs we can use to create our results | Talk about the findings and see what we can also create from it. |\n",
    "| 11/15  | 1 PM  | Work on the conclusion and additional data that we might have found. | Check our graphs and mathematical functions. Look over the regression models.\n",
    " |\n",
    "| 11/22  | 1 PM  | Break | Combine the data together in a file. |\n",
    "| 11/29  | 1 PM  | Add additional ideas/comments on our file. | Add additional ideas/comments on our file. |\n",
    "| 11/6  | 1 PM  | Add additional ideas/comments on our file. | Add additional ideas/comments on our file. |\n",
    "| 12/10  | Before 11:59 PM  | NA | Turn in Final Project & Group Project Surveys |"
   ]
  }
 ],
 "metadata": {
  "kernelspec": {
   "display_name": "Python 3 (ipykernel)",
   "language": "python",
   "name": "python3"
  },
  "language_info": {
   "codemirror_mode": {
    "name": "ipython",
    "version": 3
   },
   "file_extension": ".py",
   "mimetype": "text/x-python",
   "name": "python",
   "nbconvert_exporter": "python",
   "pygments_lexer": "ipython3",
   "version": "3.9.5"
  }
 },
 "nbformat": 4,
 "nbformat_minor": 2
}
